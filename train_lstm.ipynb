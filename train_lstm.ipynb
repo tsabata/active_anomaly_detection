{
 "cells": [
  {
   "cell_type": "code",
   "execution_count": null,
   "metadata": {},
   "outputs": [],
   "source": [
    "import pandas as pd\n",
    "import matplotlib.pyplot as plt\n",
    "import seaborn as sns\n",
    "\n",
    "from sklearn.model_selection import train_test_split\n",
    "\n",
    "import torch\n",
    "\n",
    "%matplotlib inline"
   ]
  },
  {
   "cell_type": "code",
   "execution_count": null,
   "metadata": {},
   "outputs": [],
   "source": [
    "device = torch.device('cuda' if torch.cuda.is_available() else 'cpu')"
   ]
  },
  {
   "cell_type": "code",
   "execution_count": null,
   "metadata": {},
   "outputs": [],
   "source": [
    "train_df = pd.read_csv('data/ECG5000_TRAIN.txt',\n",
    "                       sep=' ',skipinitialspace=True,\n",
    "                       header=None,\n",
    "                       names=['target'] + list(range(0,140)))\n",
    "\n",
    "test_df = pd.read_csv('data/ECG5000_TEST.txt',\n",
    "                       sep=' ',skipinitialspace=True,\n",
    "                       header=None,\n",
    "                       names=['target'] + list(range(0,140)))\n"
   ]
  },
  {
   "cell_type": "code",
   "execution_count": null,
   "metadata": {},
   "outputs": [],
   "source": [
    "df_all = train_df.append(test_df)"
   ]
  },
  {
   "cell_type": "markdown",
   "metadata": {},
   "source": [
    "# Exploration"
   ]
  },
  {
   "cell_type": "code",
   "execution_count": null,
   "metadata": {},
   "outputs": [],
   "source": [
    "class_names = ['Normal', 'R on T PVC', 'PVC', 'SP','UB']"
   ]
  },
  {
   "cell_type": "code",
   "execution_count": null,
   "metadata": {},
   "outputs": [],
   "source": [
    "df_all['target'].value_counts()"
   ]
  },
  {
   "cell_type": "code",
   "execution_count": null,
   "metadata": {},
   "outputs": [],
   "source": [
    "melted_df = df_all.melt(id_vars=['target'], value_vars=list(range(0,140)),var_name='timestamp')"
   ]
  },
  {
   "cell_type": "code",
   "execution_count": null,
   "metadata": {},
   "outputs": [],
   "source": [
    "fig, axs = plt.subplots(nrows=2, ncols=3, sharey=True, figsize=(20,8))\n",
    "for i, class_name in enumerate(class_names):\n",
    "    sns.lineplot(x=\"timestamp\", y=\"value\",\n",
    "                 data=melted_df[melted_df.target==i+1],ax=axs.flat[i])\n",
    "    axs.flat[i].set_title(class_name)\n",
    "fig.delaxes(axs.flat[-1])\n",
    "plt.tight_layout()"
   ]
  },
  {
   "cell_type": "code",
   "execution_count": null,
   "metadata": {},
   "outputs": [],
   "source": [
    "fig, axs = plt.subplots(nrows=2, ncols=1, sharey=True, figsize=(10,6))\n",
    "\n",
    "sns.lineplot(x=\"timestamp\", y=\"value\",\n",
    "             data=melted_df[melted_df.target<=2],ax=axs.flat[0])\n",
    "axs.flat[0].set_title('normal')\n",
    "sns.lineplot(x=\"timestamp\", y=\"value\",\n",
    "             data=melted_df[melted_df.target>2],ax=axs.flat[1])\n",
    "axs.flat[1].set_title('Anomaly')\n",
    "plt.tight_layout()"
   ]
  },
  {
   "cell_type": "markdown",
   "metadata": {},
   "source": [
    "# Data preparation"
   ]
  },
  {
   "cell_type": "code",
   "execution_count": null,
   "metadata": {},
   "outputs": [],
   "source": [
    "df_all = df_all.sample(frac=1.0, random_state=42)\n",
    "normal_df = df_all[df_all.target<=2].drop(columns='target')\n",
    "anomaly_df = df_all[df_all.target>2].drop(columns='target')"
   ]
  },
  {
   "cell_type": "code",
   "execution_count": null,
   "metadata": {},
   "outputs": [],
   "source": [
    "train_df, test_df = train_test_split(normal_df,train_size=0.85)\n",
    "val_df, test_df = train_test_split(test_df, test_size=0.5)\n",
    "print(f'Train size: {len(train_df)}')\n",
    "print(f'Validation size: {len(val_df)}')\n",
    "print(f'Test size: {len(test_df)}')\n",
    "train_sequences = train_df.astype('float64').values.tolist()\n",
    "val_sequences = val_df.astype('float64').values.tolist()\n",
    "test_sequences = test_df.astype('float64').values.tolist()\n"
   ]
  },
  {
   "cell_type": "code",
   "execution_count": null,
   "metadata": {},
   "outputs": [],
   "source": [
    "def create_tensors(sequences):\n",
    "    dataset = [torch.tensor(seq).unsqueeze(1) for seq in sequences]\n",
    "    return dataset"
   ]
  },
  {
   "cell_type": "code",
   "execution_count": null,
   "metadata": {},
   "outputs": [],
   "source": []
  }
 ],
 "metadata": {
  "kernelspec": {
   "display_name": "Python 3",
   "language": "python",
   "name": "python3"
  },
  "language_info": {
   "codemirror_mode": {
    "name": "ipython",
    "version": 3
   },
   "file_extension": ".py",
   "mimetype": "text/x-python",
   "name": "python",
   "nbconvert_exporter": "python",
   "pygments_lexer": "ipython3",
   "version": "3.8.3"
  }
 },
 "nbformat": 4,
 "nbformat_minor": 4
}
