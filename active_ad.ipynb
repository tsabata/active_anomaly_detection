{
 "cells": [
  {
   "cell_type": "code",
   "execution_count": 1,
   "metadata": {},
   "outputs": [],
   "source": [
    "from lstmad.vrae import VRAE\n",
    "import numpy as np\n",
    "import torch\n",
    "import torch.nn as nn\n",
    "import pandas as pd\n",
    "import copy\n",
    "\n",
    "from sklearn.model_selection import train_test_split\n",
    "from torch.utils.data import DataLoader, TensorDataset\n",
    "from lstmad.lstmae import RecurrentAutoencoder, train_model\n",
    "\n",
    "import matplotlib.pyplot as plt\n",
    "\n",
    "RANDOM_SEED = 666"
   ]
  },
  {
   "cell_type": "markdown",
   "metadata": {},
   "source": [
    "### Hyperparameters"
   ]
  },
  {
   "cell_type": "code",
   "execution_count": 2,
   "metadata": {},
   "outputs": [],
   "source": [
    "device = torch.device('cuda' if torch.cuda.is_available() else 'cpu')"
   ]
  },
  {
   "cell_type": "code",
   "execution_count": 3,
   "metadata": {},
   "outputs": [],
   "source": [
    "hidden_size = 90\n",
    "hidden_layer_depth = 1\n",
    "latent_length = 20\n",
    "batch_size = 32\n",
    "learning_rate = 0.0005\n",
    "n_epochs = 40\n",
    "dropout_rate = 0.2\n",
    "optimizer = 'Adam' # options: ADAM, SGD\n",
    "cuda = True # options: True, False\n",
    "print_every=30\n",
    "clip = True # options: True, False\n",
    "max_grad_norm=5\n",
    "loss = 'MSELoss' # options: SmoothL1Loss, MSELoss\n",
    "block = 'LSTM' # options: LSTM, GRU"
   ]
  },
  {
   "cell_type": "markdown",
   "metadata": {},
   "source": [
    "### Load data"
   ]
  },
  {
   "cell_type": "code",
   "execution_count": 232,
   "metadata": {},
   "outputs": [],
   "source": [
    "train_df = pd.read_csv('data/ECG5000_TRAIN.txt',\n",
    "                       sep=' ',skipinitialspace=True,\n",
    "                       header=None,\n",
    "                       names=['target'] + list(range(0,140)))\n",
    "\n",
    "test_df = pd.read_csv('data/ECG5000_TEST.txt',\n",
    "                       sep=' ',skipinitialspace=True,\n",
    "                       header=None,\n",
    "                       names=['target'] + list(range(0,140)))"
   ]
  },
  {
   "cell_type": "code",
   "execution_count": 245,
   "metadata": {},
   "outputs": [],
   "source": [
    "df = train_df.append(test_df)\n",
    "df = df.sample(frac=1.0)\n",
    "df.target -=1\n",
    "y = df['target']\n",
    "X = df.drop(labels='target', axis=1)\n",
    "y = (y>1.0).astype(int)"
   ]
  },
  {
   "cell_type": "code",
   "execution_count": 252,
   "metadata": {},
   "outputs": [
    {
     "data": {
      "text/plain": [
       "<matplotlib.axes._subplots.AxesSubplot at 0x7feac1f7c370>"
      ]
     },
     "execution_count": 252,
     "metadata": {},
     "output_type": "execute_result"
    },
    {
     "data": {
      "image/png": "[encoded data removed]",
      "text/plain": [
       "<Figure size 432x288 with 1 Axes>"
      ]
     },
     "metadata": {},
     "output_type": "display_data"
    }
   ],
   "source": [
    "y.value_counts().plot.pie()"
   ]
  },
  {
   "cell_type": "code",
   "execution_count": 253,
   "metadata": {},
   "outputs": [],
   "source": [
    "train_X, val_X, train_y, val_y = train_test_split(\n",
    "  X, y,\n",
    "  test_size=0.3,\n",
    "  random_state=RANDOM_SEED\n",
    ")\n",
    "\n",
    "val_X, test_X, val_y, test_y = train_test_split(\n",
    "  val_X, val_y,\n",
    "  test_size=0.5, \n",
    "  random_state=RANDOM_SEED\n",
    ")"
   ]
  },
  {
   "cell_type": "code",
   "execution_count": 254,
   "metadata": {},
   "outputs": [],
   "source": [
    "def create_dataset(df):\n",
    "    sequences = df.astype(np.float32).to_numpy().tolist()\n",
    "    dataset = [torch.tensor(s).unsqueeze(1).float() for s in sequences]\n",
    "    n_seq, seq_len, n_features = torch.stack(dataset).shape\n",
    "    return dataset, seq_len, n_features"
   ]
  },
  {
   "cell_type": "code",
   "execution_count": 255,
   "metadata": {},
   "outputs": [],
   "source": [
    "train_dataset, seq_len, n_features = create_dataset(train_X)\n",
    "val_dataset, _, _ = create_dataset(val_X)\n",
    "test_dataset, _, _ = create_dataset(test_X)\n"
   ]
  },
  {
   "cell_type": "code",
   "execution_count": 256,
   "metadata": {},
   "outputs": [],
   "source": [
    "model = RecurrentAutoencoder(seq_len, n_features, device, 8)\n",
    "model = model.to(device)"
   ]
  },
  {
   "cell_type": "code",
   "execution_count": 257,
   "metadata": {},
   "outputs": [],
   "source": [
    "# train_model(model,train_dataset,val_dataset, 50 , device)\n",
    "# torch.save(model.state_dict(), 'autoencoder.pkl')"
   ]
  },
  {
   "cell_type": "code",
   "execution_count": 258,
   "metadata": {},
   "outputs": [
    {
     "data": {
      "text/plain": [
       "<All keys matched successfully>"
      ]
     },
     "execution_count": 258,
     "metadata": {},
     "output_type": "execute_result"
    }
   ],
   "source": [
    "model.load_state_dict(torch.load('autoencoder.pkl'))"
   ]
  },
  {
   "cell_type": "code",
   "execution_count": 259,
   "metadata": {},
   "outputs": [],
   "source": [
    "train_errors, validation_errors, test_errors = [], [], []\n",
    "train_dataset_np, val_dataset_np, test_dataset_np = [], [], []\n",
    "loss_f = torch.nn.L1Loss(reduction='sum').to(device)\n",
    "model = model.eval()\n",
    "\n",
    "\n",
    "with torch.no_grad():\n",
    "    \n",
    "    for seq_true in train_dataset:\n",
    "        seq_true = seq_true.to(device)\n",
    "        z, seq_pred = model(seq_true)\n",
    "        loss = loss_f(seq_pred, seq_true)\n",
    "        train_errors.append(loss.item())\n",
    "        train_dataset_np.append(z.cpu().numpy().reshape(-1))\n",
    "    \n",
    "    for seq_true in val_dataset:\n",
    "        seq_true = seq_true.to(device)\n",
    "        z, seq_pred = model(seq_true)\n",
    "        loss = loss_f(seq_pred, seq_true)\n",
    "        validation_errors.append(loss.item())\n",
    "        val_dataset_np.append(z.cpu().numpy().reshape(-1))\n",
    "        \n",
    "    for seq_true in test_dataset:\n",
    "        seq_true = seq_true.to(device)\n",
    "        z, seq_pred = model(seq_true)\n",
    "        loss = loss_f(seq_pred, seq_true)\n",
    "        test_errors.append(loss.item())\n",
    "        test_dataset_np.append(z.cpu().numpy().reshape(-1))\n",
    "\n",
    "train_errors = np.array(train_errors)\n",
    "validation_errors = np.array(validation_errors)\n",
    "test_errors = np.array(test_errors)\n",
    "\n",
    "train_dataset_np = np.array(train_dataset_np)\n",
    "val_dataset_np = np.array(val_dataset_np)\n",
    "test_dataset_np = np.array(test_dataset_np)"
   ]
  },
  {
   "cell_type": "code",
   "execution_count": 260,
   "metadata": {},
   "outputs": [
    {
     "data": {
      "text/plain": [
       "60.22487349200378"
      ]
     },
     "execution_count": 260,
     "metadata": {},
     "output_type": "execute_result"
    },
    {
     "data": {
      "image/png": "[encoded data removed]",
      "text/plain": [
       "<Figure size 432x288 with 1 Axes>"
      ]
     },
     "metadata": {
      "needs_background": "light"
     },
     "output_type": "display_data"
    }
   ],
   "source": [
    "plt.hist(train_errors,bins=20)\n",
    "train_errors.mean() + 3 * train_errors.std()"
   ]
  },
  {
   "cell_type": "code",
   "execution_count": 261,
   "metadata": {},
   "outputs": [
    {
     "data": {
      "text/plain": [
       "60.5474789899376"
      ]
     },
     "execution_count": 261,
     "metadata": {},
     "output_type": "execute_result"
    },
    {
     "data": {
      "image/png": "[encoded data removed]",
      "text/plain": [
       "<Figure size 432x288 with 1 Axes>"
      ]
     },
     "metadata": {
      "needs_background": "light"
     },
     "output_type": "display_data"
    }
   ],
   "source": [
    "plt.hist(validation_errors,bins=20)\n",
    "validation_errors.mean() + 3 * validation_errors.std()"
   ]
  },
  {
   "cell_type": "code",
   "execution_count": 262,
   "metadata": {},
   "outputs": [
    {
     "data": {
      "text/plain": [
       "55.77775549405595"
      ]
     },
     "execution_count": 262,
     "metadata": {},
     "output_type": "execute_result"
    },
    {
     "data": {
      "image/png": "[encoded data removed]",
      "text/plain": [
       "<Figure size 432x288 with 1 Axes>"
      ]
     },
     "metadata": {
      "needs_background": "light"
     },
     "output_type": "display_data"
    }
   ],
   "source": [
    "plt.hist(test_errors,bins=20)\n",
    "test_errors.mean() + 3 * test_errors.std()"
   ]
  },
  {
   "cell_type": "code",
   "execution_count": 263,
   "metadata": {},
   "outputs": [
    {
     "data": {
      "text/plain": [
       "array([0, 0, 0, 1, 0, 1, 1, 0, 0, 0, 0, 0, 0, 0, 0, 1, 0])"
      ]
     },
     "execution_count": 263,
     "metadata": {},
     "output_type": "execute_result"
    }
   ],
   "source": [
    "val_y.values[validation_errors >= validation_errors.mean() + 3 * validation_errors.std()]"
   ]
  },
  {
   "cell_type": "code",
   "execution_count": 264,
   "metadata": {},
   "outputs": [
    {
     "data": {
      "text/plain": [
       "array([1, 0, 0, 1, 1, 1, 1, 0, 0, 0, 0, 0, 0, 0])"
      ]
     },
     "execution_count": 264,
     "metadata": {},
     "output_type": "execute_result"
    }
   ],
   "source": [
    "test_y.values[test_errors >= validation_errors.mean() + 3 * validation_errors.std()]"
   ]
  },
  {
   "cell_type": "code",
   "execution_count": 265,
   "metadata": {},
   "outputs": [
    {
     "data": {
      "text/plain": [
       "array([0, 1, 0, 1, 0, 1, 0, 1, 0, 0, 1, 0, 1, 0, 0, 0, 0, 0, 1, 0, 0, 1,\n",
       "       0, 0, 0, 1, 0, 0, 1, 1, 0, 1, 0, 1, 0, 1, 0, 0, 0, 0, 0, 0, 0, 1,\n",
       "       0, 0, 0, 0, 0, 0, 0, 0, 1, 0, 0, 0, 0, 0, 0, 1, 0, 0, 1, 0, 0, 0,\n",
       "       0, 0, 0, 1, 0, 1, 1, 0, 1, 0, 1, 0, 1, 0, 1, 1, 0, 0, 1, 0, 1])"
      ]
     },
     "execution_count": 265,
     "metadata": {},
     "output_type": "execute_result"
    }
   ],
   "source": [
    "train_y.values[train_errors >= validation_errors.mean() + 3 * validation_errors.std()]"
   ]
  },
  {
   "cell_type": "code",
   "execution_count": 266,
   "metadata": {},
   "outputs": [],
   "source": [
    "# class AnomalyScoreProcessor(nn.Module):\n",
    "\n",
    "#     def __init__(self, autoencoder, autoencoder_latent_dim, hidden_layer_dim, device):\n",
    "#         super(AnomalyScoreProcessor, self).__init__()\n",
    "#         self.autoencoder = autoencoder\n",
    "#         for param in autoencoder.parameters():\n",
    "#             param.requires_grad = False\n",
    "#         self.hidden_layer_dim = hidden_layer_dim\n",
    "#         self.hidden_layer = torch.nn.Linear(autoencoder_latent_dim + 1 , hidden_layer_dim).to(device)\n",
    "#         self.relu = torch.nn.ReLU().to(device)\n",
    "#         self.loss = nn.L1Loss(reduction='sum').to(device)\n",
    "\n",
    "#     def forward(self, x):\n",
    "#         z, out =  self.autoencoder(x)\n",
    "#         anomaly_score = torch.abs(self.loss(out, x))\n",
    "#         concatenated_tensor = torch.cat((z, anomaly_score.reshape(1, 1)), dim=1)\n",
    "#         h = self.hidden_layer(concatenated_tensor)\n",
    "#         rel = self.relu(h)\n",
    "#         return rel\n",
    "\n",
    "# class ExtendedAnomalyDetector(nn.Module):\n",
    "    \n",
    "#     def __init__(self, anomaly_score_processor, anomaly_score_processor_dim, class_nr, device):\n",
    "#         super(ExtendedAnomalyDetector, self).__init__()\n",
    "#         self.anomaly_score_processor = anomaly_score_processor\n",
    "#         self.output_layer = torch.nn.Linear(anomaly_score_processor_dim, class_nr).to(device)\n",
    "#         self.softmax = torch.nn.Softmax().to(device)\n",
    "        \n",
    "    \n",
    "#     def forward(self, x):\n",
    "#         out = self.anomaly_score_processor(x)\n",
    "#         h = self.output_layer(out)\n",
    "#         return self.softmax(h)\n",
    "   "
   ]
  },
  {
   "cell_type": "code",
   "execution_count": 42,
   "metadata": {},
   "outputs": [],
   "source": [
    "# asp = AnomalyScoreProcessor(model, 8, 4, device)\n",
    "# ead = ExtendedAnomalyDetector(asp, 4, 2, device)"
   ]
  },
  {
   "cell_type": "code",
   "execution_count": 22,
   "metadata": {},
   "outputs": [],
   "source": [
    "# def train_extended_anomaly_detector(model, x_train, y_train, x_val, y_val, n_epochs):\n",
    "#     optimizer = torch.optim.Adam(model.parameters(), lr=1e-3)\n",
    "#     criterion = nn.CrossEntropyLoss().to(device)\n",
    "#     history = dict(train=[], val=[])\n",
    "#     best_model_wts = copy.deepcopy(model.state_dict())\n",
    "#     best_loss = 10000.0\n",
    "#     for epoch in range(1, n_epochs + 1):\n",
    "#         model = model.train()\n",
    "#         train_losses = []\n",
    "#         for seq, y in zip(x_train, y_train):\n",
    "#             optimizer.zero_grad()\n",
    "#             seq = seq.to(device)\n",
    "#             pred = model(seq)\n",
    "#             #print(y)\n",
    "#             loss = criterion(pred, torch.tensor(y).reshape(1).to(device))\n",
    "#             loss.backward()\n",
    "#             optimizer.step()\n",
    "#             train_losses.append(loss.item())\n",
    "#         val_losses = []\n",
    "#         model = model.eval()\n",
    "#         with torch.no_grad():\n",
    "#             for seq, y in zip(x_val, y_val):\n",
    "#                 seq = seq.to(device)\n",
    "#                 pred = model(seq)\n",
    "#                 class_val = int(y>1)\n",
    "#                 loss = criterion(pred, torch.tensor(class_val).reshape(1).to(device))\n",
    "#                 val_losses.append(loss.item())\n",
    "#         train_loss = np.mean(train_losses)\n",
    "#         val_loss = np.mean(val_losses)\n",
    "#         history['train'].append(train_loss)\n",
    "#         history['val'].append(val_loss)\n",
    "#         if val_loss < best_loss:\n",
    "#             best_loss = val_loss\n",
    "#             best_model_wts = copy.deepcopy(model.state_dict())\n",
    "#         print(f'Epoch {epoch}: train loss {train_loss} val loss {val_loss}')\n",
    "#     model.load_state_dict(best_model_wts)\n",
    "#     return model.eval(), history"
   ]
  },
  {
   "cell_type": "markdown",
   "metadata": {},
   "source": [
    "## Initial baseline"
   ]
  },
  {
   "cell_type": "code",
   "execution_count": 269,
   "metadata": {},
   "outputs": [],
   "source": [
    "anomaly_threshold = train_errors.mean() + 3 * train_errors.std()\n",
    "loss_f = torch.nn.L1Loss(reduction='sum').to(device)\n",
    "model = model.eval()\n",
    "losses = []\n",
    "zs = []\n",
    "training_y = []\n",
    "with torch.no_grad():\n",
    "    for seq_true in train_dataset:\n",
    "        seq_true = seq_true.to(device)\n",
    "        z, seq_pred = model(seq_true)\n",
    "        loss = loss_f(seq_pred, seq_true)\n",
    "        losses.append(loss.cpu().numpy())\n",
    "        zs.append(z.cpu().numpy().reshape(-1))"
   ]
  },
  {
   "cell_type": "code",
   "execution_count": 270,
   "metadata": {},
   "outputs": [],
   "source": [
    "indices = np.argsort(losses)\n",
    "sorted_losses = [losses[i] for i in indices]"
   ]
  },
  {
   "cell_type": "code",
   "execution_count": 271,
   "metadata": {},
   "outputs": [],
   "source": [
    "i = len(sorted_losses) - 1 \n",
    "while sorted_losses[i] > anomaly_threshold:\n",
    "    i-=1\n",
    "anomalies_cnt = len(sorted_losses) - 1 - i\n",
    "normal_data_index = i - anomalies_cnt\n",
    "normal_indices = indices[normal_data_index:i]\n",
    "anomaly_indices = indices[i:]\n",
    "\n",
    "artificial_train_dataset_X=[]\n",
    "artificial_train_dataset_X_numpy=[]\n",
    "artificial_train_dataset_y=[]\n",
    "labels = []\n",
    "\n",
    "for idx in normal_indices:\n",
    "    complete_vector = np.hstack([zs[idx],losses[idx]])\n",
    "    vector = zs[idx]\n",
    "    artificial_train_dataset_X_numpy.append(vector)\n",
    "    artificial_train_dataset_X.append(train_dataset[idx])\n",
    "    artificial_train_dataset_y.append(0)\n",
    "    labels.append(train_y.iloc[idx])\n",
    "\n",
    "for idx in anomaly_indices:\n",
    "    complete_vector = np.hstack([zs[idx],losses[idx]])\n",
    "    vector = zs[idx]\n",
    "    artificial_train_dataset_X_numpy.append(vector)\n",
    "    artificial_train_dataset_X.append(train_dataset[idx])\n",
    "    artificial_train_dataset_y.append(1)\n",
    "    labels.append(train_y.iloc[idx])\n",
    "artificial_train_dataset_y = pd.Series(artificial_train_dataset_y)"
   ]
  },
  {
   "cell_type": "code",
   "execution_count": 272,
   "metadata": {},
   "outputs": [
    {
     "data": {
      "text/plain": [
       "1    88\n",
       "0    87\n",
       "dtype: int64"
      ]
     },
     "execution_count": 272,
     "metadata": {},
     "output_type": "execute_result"
    }
   ],
   "source": [
    "artificial_train_dataset_y.value_counts()"
   ]
  },
  {
   "cell_type": "code",
   "execution_count": 208,
   "metadata": {},
   "outputs": [],
   "source": [
    "#train_extended_anomaly_detector(ead, artificial_train_dataset_X, artificial_train_dataset_y, val_dataset, val_y,50)"
   ]
  },
  {
   "cell_type": "code",
   "execution_count": 210,
   "metadata": {},
   "outputs": [],
   "source": [
    "# preds = []\n",
    "# ead = ead.eval()\n",
    "# with torch.no_grad():    \n",
    "#     for seq in artificial_train_dataset_X:\n",
    "#         seq = seq.to(device)\n",
    "#         pred = ead(seq)\n",
    "#         pred = np.argmax(pred.cpu().numpy())\n",
    "#         preds.append(pred)\n",
    "# preds = pd.Series(preds)\n",
    "# sum(artificial_train_dataset_y == preds)/len(preds)"
   ]
  },
  {
   "cell_type": "markdown",
   "metadata": {},
   "source": [
    "# Classical models"
   ]
  },
  {
   "cell_type": "code",
   "execution_count": 304,
   "metadata": {},
   "outputs": [],
   "source": [
    "from sklearn.metrics import precision_recall_curve, average_precision_score, roc_auc_score, recall_score, precision_score"
   ]
  },
  {
   "cell_type": "code",
   "execution_count": 274,
   "metadata": {},
   "outputs": [],
   "source": [
    "artificial_train_dataset_X_numpy = np.array(artificial_train_dataset_X_numpy)"
   ]
  },
  {
   "cell_type": "code",
   "execution_count": 329,
   "metadata": {},
   "outputs": [],
   "source": [
    "def evaluate(classical_model, dataset_x, dataset_y, verbose = True):\n",
    "    pred = classical_model.predict_proba(dataset_x)\n",
    "    preds = np.argmax(pred,axis=1)\n",
    "\n",
    "    auprc = average_precision_score(dataset_y, np.max(pred, axis=1))\n",
    "    auroc = roc_auc_score(dataset_y, np.max(pred, axis=1))\n",
    "    recall = recall_score(dataset_y, np.argmax(pred, axis=1))\n",
    "    precision = precision_score(dataset_y, np.argmax(pred, axis=1))\n",
    "    if verbose:\n",
    "        print(f'Recall: {recall}, precision: {precision}')\n",
    "        print(f'AUROC: {auroc}, AUPRC {auprc}')\n",
    "    return recall, precision, auroc, auprc\n",
    "\n",
    "def evaluate_all(classical_model,\n",
    "                 artificial_train_dataset_X, artificial_dataset_y,\n",
    "                 train_dataset_X, train_dataset_y,\n",
    "                 val_dataset_X, val_dataset_y,\n",
    "                 test_dataset_X, test_dataset_y\n",
    "                ):\n",
    "    results = []\n",
    "    dataset_types = ['artificial_train', 'train', 'val', 'test']\n",
    "    datasets = [(artificial_train_dataset_X, artificial_train_dataset_y),\n",
    "                (train_dataset_X, train_dataset_y), (val_dataset_X, val_dataset_y),\n",
    "                (test_dataset_X, test_dataset_y)]\n",
    "    for dataset_type, (x, y) in zip(dataset_types, datasets):\n",
    "        recall, prec, auroc, auprc = evaluate(classical_model, x, y, verbose=False)\n",
    "        results.append({'dataset_type': dataset_type, 'recall': recall,'precision': precision, 'auroc': auroc, 'auprc': auprc})\n",
    "    return pd.DataFrame(results)"
   ]
  },
  {
   "cell_type": "markdown",
   "metadata": {},
   "source": [
    "## LSTM-AD"
   ]
  },
  {
   "cell_type": "code",
   "execution_count": 359,
   "metadata": {},
   "outputs": [
    {
     "data": {
      "text/html": [
       "<div>\n",
       "<style scoped>\n",
       "    .dataframe tbody tr th:only-of-type {\n",
       "        vertical-align: middle;\n",
       "    }\n",
       "\n",
       "    .dataframe tbody tr th {\n",
       "        vertical-align: top;\n",
       "    }\n",
       "\n",
       "    .dataframe thead th {\n",
       "        text-align: right;\n",
       "    }\n",
       "</style>\n",
       "<table border=\"1\" class=\"dataframe\">\n",
       "  <thead>\n",
       "    <tr style=\"text-align: right;\">\n",
       "      <th></th>\n",
       "      <th>dataset_type</th>\n",
       "      <th>recall</th>\n",
       "      <th>precision</th>\n",
       "    </tr>\n",
       "  </thead>\n",
       "  <tbody>\n",
       "    <tr>\n",
       "      <th>0</th>\n",
       "      <td>train</td>\n",
       "      <td>0.129032</td>\n",
       "      <td>0.321839</td>\n",
       "    </tr>\n",
       "    <tr>\n",
       "      <th>1</th>\n",
       "      <td>val</td>\n",
       "      <td>0.100000</td>\n",
       "      <td>0.277778</td>\n",
       "    </tr>\n",
       "    <tr>\n",
       "      <th>2</th>\n",
       "      <td>test</td>\n",
       "      <td>0.106383</td>\n",
       "      <td>0.357143</td>\n",
       "    </tr>\n",
       "  </tbody>\n",
       "</table>\n",
       "</div>"
      ],
      "text/plain": [
       "  dataset_type    recall  precision\n",
       "0        train  0.129032   0.321839\n",
       "1          val  0.100000   0.277778\n",
       "2         test  0.106383   0.357143"
      ]
     },
     "execution_count": 359,
     "metadata": {},
     "output_type": "execute_result"
    }
   ],
   "source": [
    "train_pred = np.array(train_errors) > anomaly_threshold\n",
    "val_pred = np.array(validation_errors) > anomaly_threshold\n",
    "test_pred = np.array(test_errors) > anomaly_threshold\n",
    "\n",
    "pd.DataFrame([\n",
    "    {'dataset_type': 'train', 'recall': recall_score(train_y, train_pred), 'precision': precision_score(train_y, train_pred)},\n",
    "    {'dataset_type': 'val', 'recall': recall_score(val_y, val_pred), 'precision': precision_score(val_y, val_pred)},\n",
    "    {'dataset_type': 'test', 'recall': recall_score(test_y, test_pred), 'precision': precision_score(test_y, test_pred)},\n",
    "    \n",
    "    \n",
    "])"
   ]
  },
  {
   "cell_type": "markdown",
   "metadata": {},
   "source": [
    "## SVM"
   ]
  },
  {
   "cell_type": "code",
   "execution_count": 360,
   "metadata": {},
   "outputs": [],
   "source": [
    "from sklearn.svm import SVC\n",
    "classical_model = SVC(probability=True)"
   ]
  },
  {
   "cell_type": "code",
   "execution_count": 361,
   "metadata": {},
   "outputs": [
    {
     "data": {
      "text/plain": [
       "SVC(probability=True)"
      ]
     },
     "execution_count": 361,
     "metadata": {},
     "output_type": "execute_result"
    }
   ],
   "source": [
    "classical_model.fit(artificial_train_dataset_X_numpy, artificial_train_dataset_y)"
   ]
  },
  {
   "cell_type": "code",
   "execution_count": 362,
   "metadata": {},
   "outputs": [
    {
     "data": {
      "text/html": [
       "<div>\n",
       "<style scoped>\n",
       "    .dataframe tbody tr th:only-of-type {\n",
       "        vertical-align: middle;\n",
       "    }\n",
       "\n",
       "    .dataframe tbody tr th {\n",
       "        vertical-align: top;\n",
       "    }\n",
       "\n",
       "    .dataframe thead th {\n",
       "        text-align: right;\n",
       "    }\n",
       "</style>\n",
       "<table border=\"1\" class=\"dataframe\">\n",
       "  <thead>\n",
       "    <tr style=\"text-align: right;\">\n",
       "      <th></th>\n",
       "      <th>dataset_type</th>\n",
       "      <th>recall</th>\n",
       "      <th>precision</th>\n",
       "      <th>auroc</th>\n",
       "      <th>auprc</th>\n",
       "    </tr>\n",
       "  </thead>\n",
       "  <tbody>\n",
       "    <tr>\n",
       "      <th>0</th>\n",
       "      <td>artificial_train</td>\n",
       "      <td>0.693182</td>\n",
       "      <td>0.772152</td>\n",
       "      <td>0.536377</td>\n",
       "      <td>0.617636</td>\n",
       "    </tr>\n",
       "    <tr>\n",
       "      <th>1</th>\n",
       "      <td>train</td>\n",
       "      <td>0.341014</td>\n",
       "      <td>0.772152</td>\n",
       "      <td>0.647694</td>\n",
       "      <td>0.098398</td>\n",
       "    </tr>\n",
       "    <tr>\n",
       "      <th>2</th>\n",
       "      <td>val</td>\n",
       "      <td>0.340000</td>\n",
       "      <td>0.772152</td>\n",
       "      <td>0.675886</td>\n",
       "      <td>0.125326</td>\n",
       "    </tr>\n",
       "    <tr>\n",
       "      <th>3</th>\n",
       "      <td>test</td>\n",
       "      <td>0.234043</td>\n",
       "      <td>0.772152</td>\n",
       "      <td>0.655973</td>\n",
       "      <td>0.095470</td>\n",
       "    </tr>\n",
       "  </tbody>\n",
       "</table>\n",
       "</div>"
      ],
      "text/plain": [
       "       dataset_type    recall  precision     auroc     auprc\n",
       "0  artificial_train  0.693182   0.772152  0.536377  0.617636\n",
       "1             train  0.341014   0.772152  0.647694  0.098398\n",
       "2               val  0.340000   0.772152  0.675886  0.125326\n",
       "3              test  0.234043   0.772152  0.655973  0.095470"
      ]
     },
     "execution_count": 362,
     "metadata": {},
     "output_type": "execute_result"
    }
   ],
   "source": [
    "evaluate_all(classical_model, artificial_train_dataset_X_numpy, artificial_train_dataset_y,\n",
    "             train_dataset_np, train_y,\n",
    "             val_dataset_np, val_y,\n",
    "             test_dataset_np, test_y\n",
    "            )"
   ]
  },
  {
   "cell_type": "markdown",
   "metadata": {},
   "source": [
    "## KNN"
   ]
  },
  {
   "cell_type": "code",
   "execution_count": 334,
   "metadata": {},
   "outputs": [],
   "source": [
    "from sklearn.neighbors import KNeighborsClassifier\n",
    "classical_model = KNeighborsClassifier()"
   ]
  },
  {
   "cell_type": "code",
   "execution_count": 335,
   "metadata": {},
   "outputs": [
    {
     "data": {
      "text/plain": [
       "KNeighborsClassifier()"
      ]
     },
     "execution_count": 335,
     "metadata": {},
     "output_type": "execute_result"
    }
   ],
   "source": [
    "classical_model.fit(artificial_train_dataset_X_numpy, artificial_train_dataset_y)"
   ]
  },
  {
   "cell_type": "code",
   "execution_count": 336,
   "metadata": {},
   "outputs": [
    {
     "data": {
      "text/html": [
       "<div>\n",
       "<style scoped>\n",
       "    .dataframe tbody tr th:only-of-type {\n",
       "        vertical-align: middle;\n",
       "    }\n",
       "\n",
       "    .dataframe tbody tr th {\n",
       "        vertical-align: top;\n",
       "    }\n",
       "\n",
       "    .dataframe thead th {\n",
       "        text-align: right;\n",
       "    }\n",
       "</style>\n",
       "<table border=\"1\" class=\"dataframe\">\n",
       "  <thead>\n",
       "    <tr style=\"text-align: right;\">\n",
       "      <th></th>\n",
       "      <th>dataset_type</th>\n",
       "      <th>recall</th>\n",
       "      <th>precision</th>\n",
       "      <th>auroc</th>\n",
       "      <th>auprc</th>\n",
       "    </tr>\n",
       "  </thead>\n",
       "  <tbody>\n",
       "    <tr>\n",
       "      <th>0</th>\n",
       "      <td>artificial_train</td>\n",
       "      <td>0.784091</td>\n",
       "      <td>0.772152</td>\n",
       "      <td>0.532915</td>\n",
       "      <td>0.532618</td>\n",
       "    </tr>\n",
       "    <tr>\n",
       "      <th>1</th>\n",
       "      <td>train</td>\n",
       "      <td>0.373272</td>\n",
       "      <td>0.772152</td>\n",
       "      <td>0.531671</td>\n",
       "      <td>0.070007</td>\n",
       "    </tr>\n",
       "    <tr>\n",
       "      <th>2</th>\n",
       "      <td>val</td>\n",
       "      <td>0.360000</td>\n",
       "      <td>0.772152</td>\n",
       "      <td>0.565057</td>\n",
       "      <td>0.077136</td>\n",
       "    </tr>\n",
       "    <tr>\n",
       "      <th>3</th>\n",
       "      <td>test</td>\n",
       "      <td>0.170213</td>\n",
       "      <td>0.772152</td>\n",
       "      <td>0.611044</td>\n",
       "      <td>0.085577</td>\n",
       "    </tr>\n",
       "  </tbody>\n",
       "</table>\n",
       "</div>"
      ],
      "text/plain": [
       "       dataset_type    recall  precision     auroc     auprc\n",
       "0  artificial_train  0.784091   0.772152  0.532915  0.532618\n",
       "1             train  0.373272   0.772152  0.531671  0.070007\n",
       "2               val  0.360000   0.772152  0.565057  0.077136\n",
       "3              test  0.170213   0.772152  0.611044  0.085577"
      ]
     },
     "execution_count": 336,
     "metadata": {},
     "output_type": "execute_result"
    }
   ],
   "source": [
    "evaluate_all(classical_model, artificial_train_dataset_X_numpy, artificial_train_dataset_y,\n",
    "             train_dataset_np, train_y,\n",
    "             val_dataset_np, val_y,\n",
    "             test_dataset_np, test_y\n",
    "            )"
   ]
  },
  {
   "cell_type": "markdown",
   "metadata": {},
   "source": [
    "## LogisticRegression\n"
   ]
  },
  {
   "cell_type": "code",
   "execution_count": 338,
   "metadata": {},
   "outputs": [],
   "source": [
    "from sklearn.linear_model import LogisticRegression\n",
    "classical_model = LogisticRegression(max_iter=100)"
   ]
  },
  {
   "cell_type": "code",
   "execution_count": 339,
   "metadata": {},
   "outputs": [
    {
     "data": {
      "text/plain": [
       "LogisticRegression()"
      ]
     },
     "execution_count": 339,
     "metadata": {},
     "output_type": "execute_result"
    }
   ],
   "source": [
    "classical_model.fit(artificial_train_dataset_X_numpy, artificial_train_dataset_y)"
   ]
  },
  {
   "cell_type": "code",
   "execution_count": 340,
   "metadata": {},
   "outputs": [
    {
     "data": {
      "text/html": [
       "<div>\n",
       "<style scoped>\n",
       "    .dataframe tbody tr th:only-of-type {\n",
       "        vertical-align: middle;\n",
       "    }\n",
       "\n",
       "    .dataframe tbody tr th {\n",
       "        vertical-align: top;\n",
       "    }\n",
       "\n",
       "    .dataframe thead th {\n",
       "        text-align: right;\n",
       "    }\n",
       "</style>\n",
       "<table border=\"1\" class=\"dataframe\">\n",
       "  <thead>\n",
       "    <tr style=\"text-align: right;\">\n",
       "      <th></th>\n",
       "      <th>dataset_type</th>\n",
       "      <th>recall</th>\n",
       "      <th>precision</th>\n",
       "      <th>auroc</th>\n",
       "      <th>auprc</th>\n",
       "    </tr>\n",
       "  </thead>\n",
       "  <tbody>\n",
       "    <tr>\n",
       "      <th>0</th>\n",
       "      <td>artificial_train</td>\n",
       "      <td>0.613636</td>\n",
       "      <td>0.772152</td>\n",
       "      <td>0.492685</td>\n",
       "      <td>0.519727</td>\n",
       "    </tr>\n",
       "    <tr>\n",
       "      <th>1</th>\n",
       "      <td>train</td>\n",
       "      <td>0.396313</td>\n",
       "      <td>0.772152</td>\n",
       "      <td>0.623967</td>\n",
       "      <td>0.089005</td>\n",
       "    </tr>\n",
       "    <tr>\n",
       "      <th>2</th>\n",
       "      <td>val</td>\n",
       "      <td>0.380000</td>\n",
       "      <td>0.772152</td>\n",
       "      <td>0.690514</td>\n",
       "      <td>0.110278</td>\n",
       "    </tr>\n",
       "    <tr>\n",
       "      <th>3</th>\n",
       "      <td>test</td>\n",
       "      <td>0.276596</td>\n",
       "      <td>0.772152</td>\n",
       "      <td>0.654339</td>\n",
       "      <td>0.109708</td>\n",
       "    </tr>\n",
       "  </tbody>\n",
       "</table>\n",
       "</div>"
      ],
      "text/plain": [
       "       dataset_type    recall  precision     auroc     auprc\n",
       "0  artificial_train  0.613636   0.772152  0.492685  0.519727\n",
       "1             train  0.396313   0.772152  0.623967  0.089005\n",
       "2               val  0.380000   0.772152  0.690514  0.110278\n",
       "3              test  0.276596   0.772152  0.654339  0.109708"
      ]
     },
     "execution_count": 340,
     "metadata": {},
     "output_type": "execute_result"
    }
   ],
   "source": [
    "evaluate_all(classical_model, artificial_train_dataset_X_numpy, artificial_train_dataset_y,\n",
    "             train_dataset_np, train_y,\n",
    "             val_dataset_np, val_y,\n",
    "             test_dataset_np, test_y\n",
    "            )"
   ]
  },
  {
   "cell_type": "markdown",
   "metadata": {},
   "source": [
    "## Decision tree"
   ]
  },
  {
   "cell_type": "code",
   "execution_count": 342,
   "metadata": {},
   "outputs": [],
   "source": [
    "from sklearn.tree import DecisionTreeClassifier\n",
    "classical_model = DecisionTreeClassifier(max_depth=5)"
   ]
  },
  {
   "cell_type": "code",
   "execution_count": 344,
   "metadata": {},
   "outputs": [
    {
     "data": {
      "text/plain": [
       "DecisionTreeClassifier(max_depth=5)"
      ]
     },
     "execution_count": 344,
     "metadata": {},
     "output_type": "execute_result"
    }
   ],
   "source": [
    "classical_model.fit(artificial_train_dataset_X_numpy, artificial_train_dataset_y)"
   ]
  },
  {
   "cell_type": "code",
   "execution_count": 345,
   "metadata": {},
   "outputs": [
    {
     "data": {
      "text/html": [
       "<div>\n",
       "<style scoped>\n",
       "    .dataframe tbody tr th:only-of-type {\n",
       "        vertical-align: middle;\n",
       "    }\n",
       "\n",
       "    .dataframe tbody tr th {\n",
       "        vertical-align: top;\n",
       "    }\n",
       "\n",
       "    .dataframe thead th {\n",
       "        text-align: right;\n",
       "    }\n",
       "</style>\n",
       "<table border=\"1\" class=\"dataframe\">\n",
       "  <thead>\n",
       "    <tr style=\"text-align: right;\">\n",
       "      <th></th>\n",
       "      <th>dataset_type</th>\n",
       "      <th>recall</th>\n",
       "      <th>precision</th>\n",
       "      <th>auroc</th>\n",
       "      <th>auprc</th>\n",
       "    </tr>\n",
       "  </thead>\n",
       "  <tbody>\n",
       "    <tr>\n",
       "      <th>0</th>\n",
       "      <td>artificial_train</td>\n",
       "      <td>0.965909</td>\n",
       "      <td>0.772152</td>\n",
       "      <td>0.379833</td>\n",
       "      <td>0.449839</td>\n",
       "    </tr>\n",
       "    <tr>\n",
       "      <th>1</th>\n",
       "      <td>train</td>\n",
       "      <td>0.755760</td>\n",
       "      <td>0.772152</td>\n",
       "      <td>0.515205</td>\n",
       "      <td>0.064697</td>\n",
       "    </tr>\n",
       "    <tr>\n",
       "      <th>2</th>\n",
       "      <td>val</td>\n",
       "      <td>0.680000</td>\n",
       "      <td>0.772152</td>\n",
       "      <td>0.491729</td>\n",
       "      <td>0.068066</td>\n",
       "    </tr>\n",
       "    <tr>\n",
       "      <th>3</th>\n",
       "      <td>test</td>\n",
       "      <td>0.638298</td>\n",
       "      <td>0.772152</td>\n",
       "      <td>0.527784</td>\n",
       "      <td>0.068402</td>\n",
       "    </tr>\n",
       "  </tbody>\n",
       "</table>\n",
       "</div>"
      ],
      "text/plain": [
       "       dataset_type    recall  precision     auroc     auprc\n",
       "0  artificial_train  0.965909   0.772152  0.379833  0.449839\n",
       "1             train  0.755760   0.772152  0.515205  0.064697\n",
       "2               val  0.680000   0.772152  0.491729  0.068066\n",
       "3              test  0.638298   0.772152  0.527784  0.068402"
      ]
     },
     "execution_count": 345,
     "metadata": {},
     "output_type": "execute_result"
    }
   ],
   "source": [
    "evaluate_all(classical_model, artificial_train_dataset_X_numpy, artificial_train_dataset_y,\n",
    "             train_dataset_np, train_y,\n",
    "             val_dataset_np, val_y,\n",
    "             test_dataset_np, test_y\n",
    "            )"
   ]
  },
  {
   "cell_type": "markdown",
   "metadata": {},
   "source": [
    "## Naive Bayes"
   ]
  },
  {
   "cell_type": "code",
   "execution_count": 346,
   "metadata": {},
   "outputs": [],
   "source": [
    "from sklearn.naive_bayes import GaussianNB\n",
    "classical_model = GaussianNB()"
   ]
  },
  {
   "cell_type": "code",
   "execution_count": 347,
   "metadata": {},
   "outputs": [
    {
     "data": {
      "text/plain": [
       "GaussianNB()"
      ]
     },
     "execution_count": 347,
     "metadata": {},
     "output_type": "execute_result"
    }
   ],
   "source": [
    "classical_model.fit(artificial_train_dataset_X_numpy, artificial_train_dataset_y)"
   ]
  },
  {
   "cell_type": "code",
   "execution_count": 348,
   "metadata": {},
   "outputs": [
    {
     "data": {
      "text/html": [
       "<div>\n",
       "<style scoped>\n",
       "    .dataframe tbody tr th:only-of-type {\n",
       "        vertical-align: middle;\n",
       "    }\n",
       "\n",
       "    .dataframe tbody tr th {\n",
       "        vertical-align: top;\n",
       "    }\n",
       "\n",
       "    .dataframe thead th {\n",
       "        text-align: right;\n",
       "    }\n",
       "</style>\n",
       "<table border=\"1\" class=\"dataframe\">\n",
       "  <thead>\n",
       "    <tr style=\"text-align: right;\">\n",
       "      <th></th>\n",
       "      <th>dataset_type</th>\n",
       "      <th>recall</th>\n",
       "      <th>precision</th>\n",
       "      <th>auroc</th>\n",
       "      <th>auprc</th>\n",
       "    </tr>\n",
       "  </thead>\n",
       "  <tbody>\n",
       "    <tr>\n",
       "      <th>0</th>\n",
       "      <td>artificial_train</td>\n",
       "      <td>0.602273</td>\n",
       "      <td>0.772152</td>\n",
       "      <td>0.477142</td>\n",
       "      <td>0.502156</td>\n",
       "    </tr>\n",
       "    <tr>\n",
       "      <th>1</th>\n",
       "      <td>train</td>\n",
       "      <td>0.313364</td>\n",
       "      <td>0.772152</td>\n",
       "      <td>0.586045</td>\n",
       "      <td>0.107616</td>\n",
       "    </tr>\n",
       "    <tr>\n",
       "      <th>2</th>\n",
       "      <td>val</td>\n",
       "      <td>0.280000</td>\n",
       "      <td>0.772152</td>\n",
       "      <td>0.588714</td>\n",
       "      <td>0.098718</td>\n",
       "    </tr>\n",
       "    <tr>\n",
       "      <th>3</th>\n",
       "      <td>test</td>\n",
       "      <td>0.212766</td>\n",
       "      <td>0.772152</td>\n",
       "      <td>0.656760</td>\n",
       "      <td>0.124656</td>\n",
       "    </tr>\n",
       "  </tbody>\n",
       "</table>\n",
       "</div>"
      ],
      "text/plain": [
       "       dataset_type    recall  precision     auroc     auprc\n",
       "0  artificial_train  0.602273   0.772152  0.477142  0.502156\n",
       "1             train  0.313364   0.772152  0.586045  0.107616\n",
       "2               val  0.280000   0.772152  0.588714  0.098718\n",
       "3              test  0.212766   0.772152  0.656760  0.124656"
      ]
     },
     "execution_count": 348,
     "metadata": {},
     "output_type": "execute_result"
    }
   ],
   "source": [
    "evaluate_all(classical_model, artificial_train_dataset_X_numpy, artificial_train_dataset_y,\n",
    "             train_dataset_np, train_y,\n",
    "             val_dataset_np, val_y,\n",
    "             test_dataset_np, test_y\n",
    "            )"
   ]
  },
  {
   "cell_type": "markdown",
   "metadata": {},
   "source": [
    "# Active learning loop"
   ]
  },
  {
   "cell_type": "code",
   "execution_count": null,
   "metadata": {},
   "outputs": [],
   "source": []
  }
 ],
 "metadata": {
  "kernelspec": {
   "display_name": "Python 3",
   "language": "python",
   "name": "python3"
  },
  "language_info": {
   "codemirror_mode": {
    "name": "ipython",
    "version": 3
   },
   "file_extension": ".py",
   "mimetype": "text/x-python",
   "name": "python",
   "nbconvert_exporter": "python",
   "pygments_lexer": "ipython3",
   "version": "3.8.3"
  }
 },
 "nbformat": 4,
 "nbformat_minor": 4
}
